{
 "cells": [
  {
   "cell_type": "markdown",
   "id": "8d42227f",
   "metadata": {},
   "source": [
    "# Laboratorio 3 - Clasificación de Malware"
   ]
  },
  {
   "cell_type": "code",
   "execution_count": 1,
   "id": "8dc2febb",
   "metadata": {},
   "outputs": [],
   "source": [
    "import pandas as pd\n",
    "import numpy as np\n",
    "from sklearn.feature_extraction.text import CountVectorizer\n",
    "from sklearn.model_selection import train_test_split\n",
    "from sklearn import metrics"
   ]
  },
  {
   "cell_type": "code",
   "execution_count": 2,
   "id": "dace83e1",
   "metadata": {},
   "outputs": [
    {
     "data": {
      "text/html": [
       "<div>\n",
       "<style scoped>\n",
       "    .dataframe tbody tr th:only-of-type {\n",
       "        vertical-align: middle;\n",
       "    }\n",
       "\n",
       "    .dataframe tbody tr th {\n",
       "        vertical-align: top;\n",
       "    }\n",
       "\n",
       "    .dataframe thead th {\n",
       "        text-align: right;\n",
       "    }\n",
       "</style>\n",
       "<table border=\"1\" class=\"dataframe\">\n",
       "  <thead>\n",
       "    <tr style=\"text-align: right;\">\n",
       "      <th></th>\n",
       "      <th>file</th>\n",
       "      <th>api</th>\n",
       "      <th>class</th>\n",
       "    </tr>\n",
       "  </thead>\n",
       "  <tbody>\n",
       "    <tr>\n",
       "      <th>6739</th>\n",
       "      <td>26af58c57ab2d540308f7d26b3540f65f289a1b1</td>\n",
       "      <td>DeleteCriticalSection,EnterCriticalSection,Exi...</td>\n",
       "      <td>Trojan</td>\n",
       "    </tr>\n",
       "    <tr>\n",
       "      <th>4386</th>\n",
       "      <td>c39e9c166c4d94bce1e359e94ae80f4620c61af8</td>\n",
       "      <td>LoadLibraryA,GetProcAddress,VirtualProtect,Vir...</td>\n",
       "      <td>Trojan</td>\n",
       "    </tr>\n",
       "    <tr>\n",
       "      <th>8590</th>\n",
       "      <td>6111711b8081c372c3bc4397820d137fb6359e07</td>\n",
       "      <td>LoadLibraryA,GetProcAddress,VirtualProtect,Vir...</td>\n",
       "      <td>Trojan</td>\n",
       "    </tr>\n",
       "    <tr>\n",
       "      <th>7957</th>\n",
       "      <td>00d728a5e3a3563db72118b36a1561485eae08ad</td>\n",
       "      <td>CoCreateInstance,CLSIDFromString,CoInitialize,...</td>\n",
       "      <td>Trojan</td>\n",
       "    </tr>\n",
       "    <tr>\n",
       "      <th>9675</th>\n",
       "      <td>ec3c5e07bd39487bd2201c1a39a33bd0a2715e02ce1648...</td>\n",
       "      <td>RtlFormatMessage,GetClipboardOwner,GetMessageE...</td>\n",
       "      <td>Virus</td>\n",
       "    </tr>\n",
       "    <tr>\n",
       "      <th>1873</th>\n",
       "      <td>dfa22108de48907f0418622f99853b4dfe6046bd</td>\n",
       "      <td>GetTempFileNameA,WriteFile,GetSystemTime,GetCu...</td>\n",
       "      <td>Worms</td>\n",
       "    </tr>\n",
       "    <tr>\n",
       "      <th>4342</th>\n",
       "      <td>f748e4b85e36231d324b1cf69f90592111a84d81</td>\n",
       "      <td>GetModuleHandleA,GetProcAddress,fabs,InitCommo...</td>\n",
       "      <td>Trojan</td>\n",
       "    </tr>\n",
       "    <tr>\n",
       "      <th>6659</th>\n",
       "      <td>71be2d119c50cc799a9f81e43471fdd594bcbbf8</td>\n",
       "      <td>LoadLibraryA,GetProcAddress</td>\n",
       "      <td>Trojan</td>\n",
       "    </tr>\n",
       "    <tr>\n",
       "      <th>7527</th>\n",
       "      <td>0caa97b831333facfc9e33c1e97e6215c76df230</td>\n",
       "      <td>MethCallEngine,EVENT_SINK_AddRef,DllFunctionCa...</td>\n",
       "      <td>Trojan</td>\n",
       "    </tr>\n",
       "    <tr>\n",
       "      <th>3342</th>\n",
       "      <td>9848ee3ac70766ae01248857ae9f19edb952c369</td>\n",
       "      <td>VarUI8FromBool,QueryAllTracesA,CryptGenKey,NtC...</td>\n",
       "      <td>Virus</td>\n",
       "    </tr>\n",
       "  </tbody>\n",
       "</table>\n",
       "</div>"
      ],
      "text/plain": [
       "                                                   file  \\\n",
       "6739           26af58c57ab2d540308f7d26b3540f65f289a1b1   \n",
       "4386           c39e9c166c4d94bce1e359e94ae80f4620c61af8   \n",
       "8590           6111711b8081c372c3bc4397820d137fb6359e07   \n",
       "7957           00d728a5e3a3563db72118b36a1561485eae08ad   \n",
       "9675  ec3c5e07bd39487bd2201c1a39a33bd0a2715e02ce1648...   \n",
       "1873           dfa22108de48907f0418622f99853b4dfe6046bd   \n",
       "4342           f748e4b85e36231d324b1cf69f90592111a84d81   \n",
       "6659           71be2d119c50cc799a9f81e43471fdd594bcbbf8   \n",
       "7527           0caa97b831333facfc9e33c1e97e6215c76df230   \n",
       "3342           9848ee3ac70766ae01248857ae9f19edb952c369   \n",
       "\n",
       "                                                    api   class  \n",
       "6739  DeleteCriticalSection,EnterCriticalSection,Exi...  Trojan  \n",
       "4386  LoadLibraryA,GetProcAddress,VirtualProtect,Vir...  Trojan  \n",
       "8590  LoadLibraryA,GetProcAddress,VirtualProtect,Vir...  Trojan  \n",
       "7957  CoCreateInstance,CLSIDFromString,CoInitialize,...  Trojan  \n",
       "9675  RtlFormatMessage,GetClipboardOwner,GetMessageE...   Virus  \n",
       "1873  GetTempFileNameA,WriteFile,GetSystemTime,GetCu...   Worms  \n",
       "4342  GetModuleHandleA,GetProcAddress,fabs,InitCommo...  Trojan  \n",
       "6659                        LoadLibraryA,GetProcAddress  Trojan  \n",
       "7527  MethCallEngine,EVENT_SINK_AddRef,DllFunctionCa...  Trojan  \n",
       "3342  VarUI8FromBool,QueryAllTracesA,CryptGenKey,NtC...   Virus  "
      ]
     },
     "execution_count": 2,
     "metadata": {},
     "output_type": "execute_result"
    }
   ],
   "source": [
    "df = pd.read_csv(\"VirusSample.csv\")\n",
    "df.sample(10)"
   ]
  },
  {
   "cell_type": "markdown",
   "id": "9136b576",
   "metadata": {},
   "source": [
    "## Preprocesamiento"
   ]
  },
  {
   "cell_type": "code",
   "execution_count": 3,
   "id": "04faa98e",
   "metadata": {},
   "outputs": [],
   "source": [
    "df = df.drop(\"file\", axis=1)"
   ]
  }
 ],
 "metadata": {
  "kernelspec": {
   "display_name": "Python 3 (ipykernel)",
   "language": "python",
   "name": "python3"
  },
  "language_info": {
   "codemirror_mode": {
    "name": "ipython",
    "version": 3
   },
   "file_extension": ".py",
   "mimetype": "text/x-python",
   "name": "python",
   "nbconvert_exporter": "python",
   "pygments_lexer": "ipython3",
   "version": "3.10.10"
  }
 },
 "nbformat": 4,
 "nbformat_minor": 5
}
