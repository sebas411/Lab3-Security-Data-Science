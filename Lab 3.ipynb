{
 "cells": [
  {
   "cell_type": "markdown",
   "id": "8d42227f",
   "metadata": {},
   "source": [
    "# Laboratorio 3 - Clasificación de Malware"
   ]
  },
  {
   "cell_type": "code",
   "execution_count": 1,
   "id": "8dc2febb",
   "metadata": {},
   "outputs": [],
   "source": [
    "import pandas as pd\n",
    "import numpy as np\n",
    "import re\n",
    "from sklearn.feature_extraction.text import CountVectorizer\n",
    "from sklearn.model_selection import train_test_split, StratifiedKFold\n",
    "from sklearn import metrics\n",
    "from sklearn.svm import SVC\n",
    "from sklearn.ensemble import RandomForestRegressor"
   ]
  },
  {
   "cell_type": "code",
   "execution_count": 2,
   "id": "dace83e1",
   "metadata": {},
   "outputs": [
    {
     "data": {
      "text/html": [
       "<div>\n",
       "<style scoped>\n",
       "    .dataframe tbody tr th:only-of-type {\n",
       "        vertical-align: middle;\n",
       "    }\n",
       "\n",
       "    .dataframe tbody tr th {\n",
       "        vertical-align: top;\n",
       "    }\n",
       "\n",
       "    .dataframe thead th {\n",
       "        text-align: right;\n",
       "    }\n",
       "</style>\n",
       "<table border=\"1\" class=\"dataframe\">\n",
       "  <thead>\n",
       "    <tr style=\"text-align: right;\">\n",
       "      <th></th>\n",
       "      <th>file</th>\n",
       "      <th>api</th>\n",
       "      <th>class</th>\n",
       "    </tr>\n",
       "  </thead>\n",
       "  <tbody>\n",
       "    <tr>\n",
       "      <th>4759</th>\n",
       "      <td>9f5f368fe7a542236a8e0766cee236d28c8ddc2e</td>\n",
       "      <td>CoCreateInstance,CLSIDFromString,CoInitialize,...</td>\n",
       "      <td>Trojan</td>\n",
       "    </tr>\n",
       "    <tr>\n",
       "      <th>7762</th>\n",
       "      <td>012e09519dbb62b0ffe6e27f097228e46453a35a</td>\n",
       "      <td>LoadLibraryA,GetProcAddress</td>\n",
       "      <td>Trojan</td>\n",
       "    </tr>\n",
       "    <tr>\n",
       "      <th>6533</th>\n",
       "      <td>67a61c136413b58355038987138e621e0aba4ef0</td>\n",
       "      <td>_CIcos,_adj_fptan,__vbaVarMove,__vbaAryMove,__...</td>\n",
       "      <td>Trojan</td>\n",
       "    </tr>\n",
       "    <tr>\n",
       "      <th>2633</th>\n",
       "      <td>79cc328673b78e09bcab458a75c4a86f9fadd7d9</td>\n",
       "      <td>IsValidInterface,GetThreadLocale,GetProcessHeap</td>\n",
       "      <td>Virus</td>\n",
       "    </tr>\n",
       "    <tr>\n",
       "      <th>3880</th>\n",
       "      <td>3fa7b49f470a411a88a42b47d456f326ff7eea2a</td>\n",
       "      <td>GetModuleHandleA,GetProcAddress,fabs,InitCommo...</td>\n",
       "      <td>Trojan</td>\n",
       "    </tr>\n",
       "    <tr>\n",
       "      <th>8606</th>\n",
       "      <td>3a1734d92f19b8da3829c86819d3df796a634a16</td>\n",
       "      <td>ExitProcess,GetEnvironmentStringsA,CloseHandle...</td>\n",
       "      <td>Backdoor</td>\n",
       "    </tr>\n",
       "    <tr>\n",
       "      <th>9387</th>\n",
       "      <td>d2a630e4a23ef17691ea9a2e6ea44bfd449e34d31f78d2...</td>\n",
       "      <td>RtlUpcaseUnicodeToMultiByteN,GetMessageTime,Ge...</td>\n",
       "      <td>Virus</td>\n",
       "    </tr>\n",
       "    <tr>\n",
       "      <th>7091</th>\n",
       "      <td>b66a0316f6e5b075d89cee940d3a371943595668</td>\n",
       "      <td>DeleteCriticalSection,EnterCriticalSection,Exi...</td>\n",
       "      <td>Trojan</td>\n",
       "    </tr>\n",
       "    <tr>\n",
       "      <th>3411</th>\n",
       "      <td>19e044338f9b6b019f1db652a6e405042005848d</td>\n",
       "      <td>LoadLibraryA,GetProcAddress,ExitProcess,URLDow...</td>\n",
       "      <td>Downloader</td>\n",
       "    </tr>\n",
       "    <tr>\n",
       "      <th>6503</th>\n",
       "      <td>9b3d714988bf47823fe8b300f8ab02eab0e4eb15</td>\n",
       "      <td>WSAGetLastError,WSAStartup,__WSAFDIsSet,accept...</td>\n",
       "      <td>Trojan</td>\n",
       "    </tr>\n",
       "  </tbody>\n",
       "</table>\n",
       "</div>"
      ],
      "text/plain": [
       "                                                   file  \\\n",
       "4759           9f5f368fe7a542236a8e0766cee236d28c8ddc2e   \n",
       "7762           012e09519dbb62b0ffe6e27f097228e46453a35a   \n",
       "6533           67a61c136413b58355038987138e621e0aba4ef0   \n",
       "2633           79cc328673b78e09bcab458a75c4a86f9fadd7d9   \n",
       "3880           3fa7b49f470a411a88a42b47d456f326ff7eea2a   \n",
       "8606           3a1734d92f19b8da3829c86819d3df796a634a16   \n",
       "9387  d2a630e4a23ef17691ea9a2e6ea44bfd449e34d31f78d2...   \n",
       "7091           b66a0316f6e5b075d89cee940d3a371943595668   \n",
       "3411           19e044338f9b6b019f1db652a6e405042005848d   \n",
       "6503           9b3d714988bf47823fe8b300f8ab02eab0e4eb15   \n",
       "\n",
       "                                                    api       class  \n",
       "4759  CoCreateInstance,CLSIDFromString,CoInitialize,...      Trojan  \n",
       "7762                        LoadLibraryA,GetProcAddress      Trojan  \n",
       "6533  _CIcos,_adj_fptan,__vbaVarMove,__vbaAryMove,__...      Trojan  \n",
       "2633    IsValidInterface,GetThreadLocale,GetProcessHeap       Virus  \n",
       "3880  GetModuleHandleA,GetProcAddress,fabs,InitCommo...      Trojan  \n",
       "8606  ExitProcess,GetEnvironmentStringsA,CloseHandle...    Backdoor  \n",
       "9387  RtlUpcaseUnicodeToMultiByteN,GetMessageTime,Ge...       Virus  \n",
       "7091  DeleteCriticalSection,EnterCriticalSection,Exi...      Trojan  \n",
       "3411  LoadLibraryA,GetProcAddress,ExitProcess,URLDow...  Downloader  \n",
       "6503  WSAGetLastError,WSAStartup,__WSAFDIsSet,accept...      Trojan  "
      ]
     },
     "execution_count": 2,
     "metadata": {},
     "output_type": "execute_result"
    }
   ],
   "source": [
    "df = pd.read_csv(\"VirusSample.csv\")\n",
    "df.sample(10)"
   ]
  },
  {
   "cell_type": "code",
   "execution_count": 3,
   "id": "e63324e1",
   "metadata": {},
   "outputs": [
    {
     "name": "stdout",
     "output_type": "stream",
     "text": [
      "Trojan        6153\n",
      "Virus         2367\n",
      "Backdoor       447\n",
      "Worms          441\n",
      "Adware         222\n",
      "Agent          102\n",
      "Downloader      31\n",
      "Spyware         11\n",
      "Ransomware      10\n",
      "Riskware         4\n",
      "Dropper          4\n",
      "Crypt            2\n",
      "Keylogger        1\n",
      "Name: class, dtype: int64\n"
     ]
    },
    {
     "data": {
      "text/plain": [
       "<AxesSubplot: >"
      ]
     },
     "execution_count": 3,
     "metadata": {},
     "output_type": "execute_result"
    },
    {
     "data": {
      "image/png": "[encoded data removed]",
      "text/plain": [
       "<Figure size 640x480 with 1 Axes>"
      ]
     },
     "metadata": {},
     "output_type": "display_data"
    }
   ],
   "source": [
    "print(df['class'].value_counts())\n",
    "df['class'].value_counts().plot(kind='bar')"
   ]
  },
  {
   "cell_type": "code",
   "execution_count": 4,
   "id": "239266cc",
   "metadata": {},
   "outputs": [
    {
     "data": {
      "text/plain": [
       "447"
      ]
     },
     "execution_count": 4,
     "metadata": {},
     "output_type": "execute_result"
    }
   ],
   "source": [
    "backdoor_count = df['class'].value_counts()['Backdoor']\n",
    "backdoor_count"
   ]
  },
  {
   "cell_type": "markdown",
   "id": "2e1ee12c",
   "metadata": {},
   "source": [
    "Como se puede observar, los datos no estan balanceados ya que hay muchos troyanos pero hay otras categorías que no tienen muchos datos, por esta razón se toma la decisión de solo tomar las categorías que tienen más de 100 datos para evitar el sobreajuste. De las categorías que quedan se balancean para tener la misma cantidad de datos que Backdoor ya que se considera una buena cantidad para no tener que hacer mucho sobremuestreo de las categorías como agent."
   ]
  },
  {
   "cell_type": "markdown",
   "id": "05078cc2",
   "metadata": {},
   "source": [
    "## Preprocesamiento"
   ]
  },
  {
   "cell_type": "code",
   "execution_count": 5,
   "id": "04faa98e",
   "metadata": {},
   "outputs": [],
   "source": [
    "df = df.drop(\"file\", axis=1)"
   ]
  },
  {
   "cell_type": "code",
   "execution_count": 6,
   "id": "76bd50f4",
   "metadata": {},
   "outputs": [],
   "source": [
    "types = ['Trojan', 'Virus', 'Backdoor', 'Worms', 'Adware', 'Agent']\n",
    "# Se agregan solamente los tipos que tienen por lo menos 100 muestras para evitar el sobreajuste"
   ]
  },
  {
   "cell_type": "code",
   "execution_count": 7,
   "id": "5f8e5691",
   "metadata": {},
   "outputs": [
    {
     "name": "stdout",
     "output_type": "stream",
     "text": [
      "(2682, 2)\n"
     ]
    },
    {
     "data": {
      "text/html": [
       "<div>\n",
       "<style scoped>\n",
       "    .dataframe tbody tr th:only-of-type {\n",
       "        vertical-align: middle;\n",
       "    }\n",
       "\n",
       "    .dataframe tbody tr th {\n",
       "        vertical-align: top;\n",
       "    }\n",
       "\n",
       "    .dataframe thead th {\n",
       "        text-align: right;\n",
       "    }\n",
       "</style>\n",
       "<table border=\"1\" class=\"dataframe\">\n",
       "  <thead>\n",
       "    <tr style=\"text-align: right;\">\n",
       "      <th></th>\n",
       "      <th>api</th>\n",
       "      <th>class</th>\n",
       "    </tr>\n",
       "  </thead>\n",
       "  <tbody>\n",
       "    <tr>\n",
       "      <th>2835</th>\n",
       "      <td>CreateDialogParamA,LookupAccountNameA,SystemFu...</td>\n",
       "      <td>Virus</td>\n",
       "    </tr>\n",
       "    <tr>\n",
       "      <th>3599</th>\n",
       "      <td>_CorExeMain</td>\n",
       "      <td>Adware</td>\n",
       "    </tr>\n",
       "    <tr>\n",
       "      <th>8879</th>\n",
       "      <td>ExitProcess,GetEnvironmentStringsA,CloseHandle...</td>\n",
       "      <td>Backdoor</td>\n",
       "    </tr>\n",
       "    <tr>\n",
       "      <th>9053</th>\n",
       "      <td>MethCallEngine,EVENT_SINK_AddRef,EVENT_SINK_Re...</td>\n",
       "      <td>Worms</td>\n",
       "    </tr>\n",
       "    <tr>\n",
       "      <th>2957</th>\n",
       "      <td>DeleteCriticalSection,ResetWriteWatch,GetClipb...</td>\n",
       "      <td>Virus</td>\n",
       "    </tr>\n",
       "    <tr>\n",
       "      <th>9217</th>\n",
       "      <td>MethCallEngine,EVENT_SINK_AddRef,EVENT_SINK_Re...</td>\n",
       "      <td>Worms</td>\n",
       "    </tr>\n",
       "    <tr>\n",
       "      <th>6203</th>\n",
       "      <td>LoadLibraryA,GetProcAddress</td>\n",
       "      <td>Trojan</td>\n",
       "    </tr>\n",
       "    <tr>\n",
       "      <th>1021</th>\n",
       "      <td>LoadLibraryA,GetProcAddress,VirtualProtect,Vir...</td>\n",
       "      <td>Trojan</td>\n",
       "    </tr>\n",
       "    <tr>\n",
       "      <th>2241</th>\n",
       "      <td>GetClipboardViewer,CallWindowProcW,RegisterCla...</td>\n",
       "      <td>Virus</td>\n",
       "    </tr>\n",
       "    <tr>\n",
       "      <th>3678</th>\n",
       "      <td>LoadLibraryA,GetProcAddress,ExitProcess,GetAce...</td>\n",
       "      <td>Adware</td>\n",
       "    </tr>\n",
       "  </tbody>\n",
       "</table>\n",
       "</div>"
      ],
      "text/plain": [
       "                                                    api     class\n",
       "2835  CreateDialogParamA,LookupAccountNameA,SystemFu...     Virus\n",
       "3599                                        _CorExeMain    Adware\n",
       "8879  ExitProcess,GetEnvironmentStringsA,CloseHandle...  Backdoor\n",
       "9053  MethCallEngine,EVENT_SINK_AddRef,EVENT_SINK_Re...     Worms\n",
       "2957  DeleteCriticalSection,ResetWriteWatch,GetClipb...     Virus\n",
       "9217  MethCallEngine,EVENT_SINK_AddRef,EVENT_SINK_Re...     Worms\n",
       "6203                        LoadLibraryA,GetProcAddress    Trojan\n",
       "1021  LoadLibraryA,GetProcAddress,VirtualProtect,Vir...    Trojan\n",
       "2241  GetClipboardViewer,CallWindowProcW,RegisterCla...     Virus\n",
       "3678  LoadLibraryA,GetProcAddress,ExitProcess,GetAce...    Adware"
      ]
     },
     "execution_count": 7,
     "metadata": {},
     "output_type": "execute_result"
    }
   ],
   "source": [
    "sections = []\n",
    "balanced_sections = []\n",
    "for t in types:\n",
    "    sections.append(df[df['class'] == t])\n",
    "for sec in sections:\n",
    "    balanced_sections.append(sec.sample(backdoor_count, replace=True))\n",
    "df2 = pd.concat(balanced_sections)\n",
    "print(df2.shape)\n",
    "df2.sample(10)"
   ]
  },
  {
   "cell_type": "code",
   "execution_count": 8,
   "id": "ad82b784",
   "metadata": {},
   "outputs": [
    {
     "name": "stdout",
     "output_type": "stream",
     "text": [
      "Trojan      447\n",
      "Virus       447\n",
      "Backdoor    447\n",
      "Worms       447\n",
      "Adware      447\n",
      "Agent       447\n",
      "Name: class, dtype: int64\n"
     ]
    },
    {
     "data": {
      "text/plain": [
       "<AxesSubplot: >"
      ]
     },
     "execution_count": 8,
     "metadata": {},
     "output_type": "execute_result"
    },
    {
     "data": {
      "image/png": "[encoded data removed]",
      "text/plain": [
       "<Figure size 640x480 with 1 Axes>"
      ]
     },
     "metadata": {},
     "output_type": "display_data"
    }
   ],
   "source": [
    "print(df2['class'].value_counts())\n",
    "df2['class'].value_counts().plot(kind='bar')"
   ]
  },
  {
   "cell_type": "markdown",
   "id": "3fc251dd",
   "metadata": {},
   "source": [
    "Ahora los datos estan balanceados :)"
   ]
  },
  {
   "cell_type": "code",
   "execution_count": 9,
   "id": "7c79c919",
   "metadata": {},
   "outputs": [],
   "source": [
    "body = np.array(df2['api'])\n",
    "target = np.array(df2['class'])\n",
    "target_dummies = np.array(pd.get_dummies(df2['class']))"
   ]
  },
  {
   "cell_type": "code",
   "execution_count": 10,
   "id": "70aa2736",
   "metadata": {},
   "outputs": [
    {
     "data": {
      "text/html": [
       "<div>\n",
       "<style scoped>\n",
       "    .dataframe tbody tr th:only-of-type {\n",
       "        vertical-align: middle;\n",
       "    }\n",
       "\n",
       "    .dataframe tbody tr th {\n",
       "        vertical-align: top;\n",
       "    }\n",
       "\n",
       "    .dataframe thead th {\n",
       "        text-align: right;\n",
       "    }\n",
       "</style>\n",
       "<table border=\"1\" class=\"dataframe\">\n",
       "  <thead>\n",
       "    <tr style=\"text-align: right;\">\n",
       "      <th></th>\n",
       "      <th>0_container_base12</th>\n",
       "      <th>0_locinfo</th>\n",
       "      <th>0_lockit</th>\n",
       "      <th>0_winit</th>\n",
       "      <th>0bad_cast</th>\n",
       "      <th>0bad_exception</th>\n",
       "      <th>0exception</th>\n",
       "      <th>0id</th>\n",
       "      <th>0init</th>\n",
       "      <th>0logic_error</th>\n",
       "      <th>...</th>\n",
       "      <th>zwclose</th>\n",
       "      <th>zwcreatefile</th>\n",
       "      <th>zwenumeratekey</th>\n",
       "      <th>zwopenkey</th>\n",
       "      <th>zwqueryfullattributesfile</th>\n",
       "      <th>zwquerysysteminformation</th>\n",
       "      <th>zwqueryvaluekey</th>\n",
       "      <th>zwreadfile</th>\n",
       "      <th>zwunloaddriver</th>\n",
       "      <th>zwwritefile</th>\n",
       "    </tr>\n",
       "  </thead>\n",
       "  <tbody>\n",
       "    <tr>\n",
       "      <th>0</th>\n",
       "      <td>0</td>\n",
       "      <td>0</td>\n",
       "      <td>0</td>\n",
       "      <td>0</td>\n",
       "      <td>0</td>\n",
       "      <td>0</td>\n",
       "      <td>0</td>\n",
       "      <td>0</td>\n",
       "      <td>0</td>\n",
       "      <td>0</td>\n",
       "      <td>...</td>\n",
       "      <td>0</td>\n",
       "      <td>0</td>\n",
       "      <td>0</td>\n",
       "      <td>0</td>\n",
       "      <td>0</td>\n",
       "      <td>0</td>\n",
       "      <td>0</td>\n",
       "      <td>0</td>\n",
       "      <td>0</td>\n",
       "      <td>0</td>\n",
       "    </tr>\n",
       "    <tr>\n",
       "      <th>1</th>\n",
       "      <td>0</td>\n",
       "      <td>0</td>\n",
       "      <td>0</td>\n",
       "      <td>0</td>\n",
       "      <td>0</td>\n",
       "      <td>0</td>\n",
       "      <td>0</td>\n",
       "      <td>0</td>\n",
       "      <td>0</td>\n",
       "      <td>0</td>\n",
       "      <td>...</td>\n",
       "      <td>0</td>\n",
       "      <td>0</td>\n",
       "      <td>0</td>\n",
       "      <td>0</td>\n",
       "      <td>0</td>\n",
       "      <td>0</td>\n",
       "      <td>0</td>\n",
       "      <td>0</td>\n",
       "      <td>0</td>\n",
       "      <td>0</td>\n",
       "    </tr>\n",
       "    <tr>\n",
       "      <th>2</th>\n",
       "      <td>0</td>\n",
       "      <td>0</td>\n",
       "      <td>0</td>\n",
       "      <td>0</td>\n",
       "      <td>0</td>\n",
       "      <td>0</td>\n",
       "      <td>0</td>\n",
       "      <td>0</td>\n",
       "      <td>0</td>\n",
       "      <td>0</td>\n",
       "      <td>...</td>\n",
       "      <td>0</td>\n",
       "      <td>0</td>\n",
       "      <td>0</td>\n",
       "      <td>0</td>\n",
       "      <td>0</td>\n",
       "      <td>0</td>\n",
       "      <td>0</td>\n",
       "      <td>0</td>\n",
       "      <td>0</td>\n",
       "      <td>0</td>\n",
       "    </tr>\n",
       "    <tr>\n",
       "      <th>3</th>\n",
       "      <td>0</td>\n",
       "      <td>0</td>\n",
       "      <td>0</td>\n",
       "      <td>0</td>\n",
       "      <td>0</td>\n",
       "      <td>0</td>\n",
       "      <td>0</td>\n",
       "      <td>0</td>\n",
       "      <td>0</td>\n",
       "      <td>0</td>\n",
       "      <td>...</td>\n",
       "      <td>0</td>\n",
       "      <td>0</td>\n",
       "      <td>0</td>\n",
       "      <td>0</td>\n",
       "      <td>0</td>\n",
       "      <td>0</td>\n",
       "      <td>0</td>\n",
       "      <td>0</td>\n",
       "      <td>0</td>\n",
       "      <td>0</td>\n",
       "    </tr>\n",
       "    <tr>\n",
       "      <th>4</th>\n",
       "      <td>0</td>\n",
       "      <td>0</td>\n",
       "      <td>0</td>\n",
       "      <td>0</td>\n",
       "      <td>0</td>\n",
       "      <td>0</td>\n",
       "      <td>0</td>\n",
       "      <td>0</td>\n",
       "      <td>0</td>\n",
       "      <td>0</td>\n",
       "      <td>...</td>\n",
       "      <td>0</td>\n",
       "      <td>0</td>\n",
       "      <td>0</td>\n",
       "      <td>0</td>\n",
       "      <td>0</td>\n",
       "      <td>0</td>\n",
       "      <td>0</td>\n",
       "      <td>0</td>\n",
       "      <td>0</td>\n",
       "      <td>0</td>\n",
       "    </tr>\n",
       "    <tr>\n",
       "      <th>...</th>\n",
       "      <td>...</td>\n",
       "      <td>...</td>\n",
       "      <td>...</td>\n",
       "      <td>...</td>\n",
       "      <td>...</td>\n",
       "      <td>...</td>\n",
       "      <td>...</td>\n",
       "      <td>...</td>\n",
       "      <td>...</td>\n",
       "      <td>...</td>\n",
       "      <td>...</td>\n",
       "      <td>...</td>\n",
       "      <td>...</td>\n",
       "      <td>...</td>\n",
       "      <td>...</td>\n",
       "      <td>...</td>\n",
       "      <td>...</td>\n",
       "      <td>...</td>\n",
       "      <td>...</td>\n",
       "      <td>...</td>\n",
       "      <td>...</td>\n",
       "    </tr>\n",
       "    <tr>\n",
       "      <th>2677</th>\n",
       "      <td>0</td>\n",
       "      <td>0</td>\n",
       "      <td>0</td>\n",
       "      <td>0</td>\n",
       "      <td>0</td>\n",
       "      <td>0</td>\n",
       "      <td>0</td>\n",
       "      <td>0</td>\n",
       "      <td>0</td>\n",
       "      <td>0</td>\n",
       "      <td>...</td>\n",
       "      <td>0</td>\n",
       "      <td>0</td>\n",
       "      <td>0</td>\n",
       "      <td>0</td>\n",
       "      <td>0</td>\n",
       "      <td>0</td>\n",
       "      <td>0</td>\n",
       "      <td>0</td>\n",
       "      <td>0</td>\n",
       "      <td>0</td>\n",
       "    </tr>\n",
       "    <tr>\n",
       "      <th>2678</th>\n",
       "      <td>0</td>\n",
       "      <td>0</td>\n",
       "      <td>0</td>\n",
       "      <td>0</td>\n",
       "      <td>0</td>\n",
       "      <td>0</td>\n",
       "      <td>0</td>\n",
       "      <td>0</td>\n",
       "      <td>0</td>\n",
       "      <td>0</td>\n",
       "      <td>...</td>\n",
       "      <td>0</td>\n",
       "      <td>0</td>\n",
       "      <td>0</td>\n",
       "      <td>0</td>\n",
       "      <td>0</td>\n",
       "      <td>0</td>\n",
       "      <td>0</td>\n",
       "      <td>0</td>\n",
       "      <td>0</td>\n",
       "      <td>0</td>\n",
       "    </tr>\n",
       "    <tr>\n",
       "      <th>2679</th>\n",
       "      <td>0</td>\n",
       "      <td>0</td>\n",
       "      <td>0</td>\n",
       "      <td>0</td>\n",
       "      <td>0</td>\n",
       "      <td>0</td>\n",
       "      <td>0</td>\n",
       "      <td>0</td>\n",
       "      <td>0</td>\n",
       "      <td>0</td>\n",
       "      <td>...</td>\n",
       "      <td>0</td>\n",
       "      <td>0</td>\n",
       "      <td>0</td>\n",
       "      <td>0</td>\n",
       "      <td>0</td>\n",
       "      <td>0</td>\n",
       "      <td>0</td>\n",
       "      <td>0</td>\n",
       "      <td>0</td>\n",
       "      <td>0</td>\n",
       "    </tr>\n",
       "    <tr>\n",
       "      <th>2680</th>\n",
       "      <td>0</td>\n",
       "      <td>0</td>\n",
       "      <td>0</td>\n",
       "      <td>0</td>\n",
       "      <td>0</td>\n",
       "      <td>0</td>\n",
       "      <td>0</td>\n",
       "      <td>0</td>\n",
       "      <td>0</td>\n",
       "      <td>0</td>\n",
       "      <td>...</td>\n",
       "      <td>0</td>\n",
       "      <td>0</td>\n",
       "      <td>0</td>\n",
       "      <td>0</td>\n",
       "      <td>0</td>\n",
       "      <td>0</td>\n",
       "      <td>0</td>\n",
       "      <td>0</td>\n",
       "      <td>0</td>\n",
       "      <td>0</td>\n",
       "    </tr>\n",
       "    <tr>\n",
       "      <th>2681</th>\n",
       "      <td>0</td>\n",
       "      <td>0</td>\n",
       "      <td>0</td>\n",
       "      <td>0</td>\n",
       "      <td>0</td>\n",
       "      <td>0</td>\n",
       "      <td>0</td>\n",
       "      <td>0</td>\n",
       "      <td>0</td>\n",
       "      <td>0</td>\n",
       "      <td>...</td>\n",
       "      <td>0</td>\n",
       "      <td>0</td>\n",
       "      <td>0</td>\n",
       "      <td>0</td>\n",
       "      <td>0</td>\n",
       "      <td>0</td>\n",
       "      <td>0</td>\n",
       "      <td>0</td>\n",
       "      <td>0</td>\n",
       "      <td>0</td>\n",
       "    </tr>\n",
       "  </tbody>\n",
       "</table>\n",
       "<p>2682 rows × 1995 columns</p>\n",
       "</div>"
      ],
      "text/plain": [
       "      0_container_base12  0_locinfo  0_lockit  0_winit  0bad_cast  \\\n",
       "0                      0          0         0        0          0   \n",
       "1                      0          0         0        0          0   \n",
       "2                      0          0         0        0          0   \n",
       "3                      0          0         0        0          0   \n",
       "4                      0          0         0        0          0   \n",
       "...                  ...        ...       ...      ...        ...   \n",
       "2677                   0          0         0        0          0   \n",
       "2678                   0          0         0        0          0   \n",
       "2679                   0          0         0        0          0   \n",
       "2680                   0          0         0        0          0   \n",
       "2681                   0          0         0        0          0   \n",
       "\n",
       "      0bad_exception  0exception  0id  0init  0logic_error  ...  zwclose  \\\n",
       "0                  0           0    0      0             0  ...        0   \n",
       "1                  0           0    0      0             0  ...        0   \n",
       "2                  0           0    0      0             0  ...        0   \n",
       "3                  0           0    0      0             0  ...        0   \n",
       "4                  0           0    0      0             0  ...        0   \n",
       "...              ...         ...  ...    ...           ...  ...      ...   \n",
       "2677               0           0    0      0             0  ...        0   \n",
       "2678               0           0    0      0             0  ...        0   \n",
       "2679               0           0    0      0             0  ...        0   \n",
       "2680               0           0    0      0             0  ...        0   \n",
       "2681               0           0    0      0             0  ...        0   \n",
       "\n",
       "      zwcreatefile  zwenumeratekey  zwopenkey  zwqueryfullattributesfile  \\\n",
       "0                0               0          0                          0   \n",
       "1                0               0          0                          0   \n",
       "2                0               0          0                          0   \n",
       "3                0               0          0                          0   \n",
       "4                0               0          0                          0   \n",
       "...            ...             ...        ...                        ...   \n",
       "2677             0               0          0                          0   \n",
       "2678             0               0          0                          0   \n",
       "2679             0               0          0                          0   \n",
       "2680             0               0          0                          0   \n",
       "2681             0               0          0                          0   \n",
       "\n",
       "      zwquerysysteminformation  zwqueryvaluekey  zwreadfile  zwunloaddriver  \\\n",
       "0                            0                0           0               0   \n",
       "1                            0                0           0               0   \n",
       "2                            0                0           0               0   \n",
       "3                            0                0           0               0   \n",
       "4                            0                0           0               0   \n",
       "...                        ...              ...         ...             ...   \n",
       "2677                         0                0           0               0   \n",
       "2678                         0                0           0               0   \n",
       "2679                         0                0           0               0   \n",
       "2680                         0                0           0               0   \n",
       "2681                         0                0           0               0   \n",
       "\n",
       "      zwwritefile  \n",
       "0               0  \n",
       "1               0  \n",
       "2               0  \n",
       "3               0  \n",
       "4               0  \n",
       "...           ...  \n",
       "2677            0  \n",
       "2678            0  \n",
       "2679            0  \n",
       "2680            0  \n",
       "2681            0  \n",
       "\n",
       "[2682 rows x 1995 columns]"
      ]
     },
     "execution_count": 10,
     "metadata": {},
     "output_type": "execute_result"
    }
   ],
   "source": [
    "cv = CountVectorizer(min_df=0.001)\n",
    "cv_matrix = cv.fit_transform(body)\n",
    "cv_matrix = cv_matrix.toarray()\n",
    "vocabulario = cv.get_feature_names_out()\n",
    "vocabulario.shape\n",
    "bow = pd.DataFrame(cv_matrix, columns=vocabulario)\n",
    "bow"
   ]
  },
  {
   "cell_type": "markdown",
   "id": "5ca82c5e",
   "metadata": {},
   "source": [
    "## Implementación"
   ]
  },
  {
   "cell_type": "code",
   "execution_count": 11,
   "id": "dab0a7bd",
   "metadata": {},
   "outputs": [],
   "source": [
    "X_train, X_test, y_train, y_test = train_test_split(bow, target, test_size=0.3, random_state=104, shuffle=True)"
   ]
  },
  {
   "cell_type": "markdown",
   "id": "df9b2211",
   "metadata": {},
   "source": [
    "### Support vector machines"
   ]
  },
  {
   "cell_type": "code",
   "execution_count": 12,
   "id": "8a99deca",
   "metadata": {},
   "outputs": [],
   "source": [
    "model1 = SVC(gamma='auto')\n",
    "model1 = model1.fit(X_train, y_train)"
   ]
  },
  {
   "cell_type": "code",
   "execution_count": 13,
   "id": "b6313617",
   "metadata": {},
   "outputs": [],
   "source": [
    "y_pred1 = model1.predict(X_test)"
   ]
  },
  {
   "cell_type": "code",
   "execution_count": 14,
   "id": "479b3e77",
   "metadata": {},
   "outputs": [
    {
     "name": "stdout",
     "output_type": "stream",
     "text": [
      "Matriz de confusión:\n",
      " [[ 89   1   0   0  35   0]\n",
      " [ 22  96   0   7   7   0]\n",
      " [  1   0 112  14   1   2]\n",
      " [  6   4   0  67  51   4]\n",
      " [  2   0   0   1 148   0]\n",
      " [  4   0   0   0  86  45]]\n"
     ]
    }
   ],
   "source": [
    "print('Matriz de confusión:\\n', metrics.confusion_matrix(y_test, y_pred1))"
   ]
  },
  {
   "cell_type": "code",
   "execution_count": 15,
   "id": "e7c1ea01",
   "metadata": {},
   "outputs": [
    {
     "name": "stdout",
     "output_type": "stream",
     "text": [
      "              precision    recall  f1-score   support\n",
      "\n",
      "      Adware       0.72      0.71      0.71       125\n",
      "       Agent       0.95      0.73      0.82       132\n",
      "    Backdoor       1.00      0.86      0.93       130\n",
      "      Trojan       0.75      0.51      0.61       132\n",
      "       Virus       0.45      0.98      0.62       151\n",
      "       Worms       0.88      0.33      0.48       135\n",
      "\n",
      "    accuracy                           0.69       805\n",
      "   macro avg       0.79      0.69      0.70       805\n",
      "weighted avg       0.78      0.69      0.69       805\n",
      "\n"
     ]
    }
   ],
   "source": [
    "print(metrics.classification_report(y_test, y_pred1))"
   ]
  },
  {
   "cell_type": "code",
   "execution_count": 16,
   "id": "2f536f77",
   "metadata": {},
   "outputs": [
    {
     "name": "stdout",
     "output_type": "stream",
     "text": [
      "Starting 0 fold\n",
      "0 fold accuracy is: 0.6914498141263941\n",
      "Starting 1 fold\n",
      "1 fold accuracy is: 0.7434944237918215\n",
      "Starting 2 fold\n",
      "2 fold accuracy is: 0.7238805970149254\n",
      "Starting 3 fold\n",
      "3 fold accuracy is: 0.7052238805970149\n",
      "Starting 4 fold\n",
      "4 fold accuracy is: 0.7014925373134329\n",
      "Starting 5 fold\n",
      "5 fold accuracy is: 0.6791044776119403\n",
      "Starting 6 fold\n",
      "6 fold accuracy is: 0.7089552238805971\n",
      "Starting 7 fold\n",
      "7 fold accuracy is: 0.6716417910447762\n",
      "Starting 8 fold\n",
      "8 fold accuracy is: 0.6716417910447762\n",
      "Starting 9 fold\n",
      "9 fold accuracy is: 0.7313432835820896\n",
      "After 10 folds average accuracy is: 0.7028227820007769\n"
     ]
    }
   ],
   "source": [
    "cv = StratifiedKFold(n_splits=10, random_state=123, shuffle=True)\n",
    "X = bow\n",
    "y = df2['class']\n",
    "accs = 0\n",
    "    \n",
    "for (train, test), i in zip(cv.split(X, y), range(10)):\n",
    "    print(\"Starting\", i, \"fold\")\n",
    "    model1.fit(X.iloc[train], y.iloc[train])\n",
    "    y_pred = model1.predict(X.iloc[test])\n",
    "    y_test = y.iloc[test]\n",
    "    acc = metrics.accuracy_score(y_test, y_pred)\n",
    "    accs += acc\n",
    "    print(i, \"fold accuracy is:\", acc)\n",
    "    \n",
    "print(\"After 10 folds average accuracy is:\", accs/10)"
   ]
  },
  {
   "cell_type": "markdown",
   "id": "f29f65dc",
   "metadata": {},
   "source": [
    "Para este modelo podemos observar con el kfolds que su accuracy es de 70% lo cual es un buen resultado para un modelo que predice 6 categorías. Ahora, con las métricas de precision y recall podemos ver bien en que está bien y en qué se equivoca el modelo.  \n",
    "Si observamos las categorías de Agent, Backdoor, Trojan y Worms podemos observar que tienen una buena métrica de precision pero no tan buena en el recall, esto significa que los virus que identifica como estas categorías (positivos) estan bien identificados pero que también hay otros virus en esa categoría que no los logra identificar (positivos que el modelo identifica como negativos).  \n",
    "Por otro lado en la categoría de Virus vemos todo lo opuesto, esta categoría tiene un muy buen recall pero mala precision. Esto significa que está identificando muchos como positivos (está incluyendo muchos aunque no pertenezcan a su categoría). Aunque el recall alto significa que los positivos reales si están incluidos en los que identificó.  \n",
    "Este último resultado es interesante porque es muy probable que cuando se recolectó el dataset las categorías de virus que no sabían a cual pertenecían las pusieron solo bajo la categoría \"virus\" por lo que ahora el modelo sobreajusta un poco sobre esta categoría."
   ]
  },
  {
   "cell_type": "markdown",
   "id": "7f608945",
   "metadata": {},
   "source": [
    "### Random forest"
   ]
  },
  {
   "cell_type": "code",
   "execution_count": 17,
   "id": "7609b5a7",
   "metadata": {},
   "outputs": [],
   "source": [
    "X_train, X_test, y_train, y_test = train_test_split(bow, target_dummies, test_size=0.3, random_state=104, shuffle=True)"
   ]
  },
  {
   "cell_type": "code",
   "execution_count": 18,
   "id": "3dd16635",
   "metadata": {},
   "outputs": [
    {
     "data": {
      "text/html": [
       "<style>#sk-container-id-1 {color: black;background-color: white;}#sk-container-id-1 pre{padding: 0;}#sk-container-id-1 div.sk-toggleable {background-color: white;}#sk-container-id-1 label.sk-toggleable__label {cursor: pointer;display: block;width: 100%;margin-bottom: 0;padding: 0.3em;box-sizing: border-box;text-align: center;}#sk-container-id-1 label.sk-toggleable__label-arrow:before {content: \"▸\";float: left;margin-right: 0.25em;color: #696969;}#sk-container-id-1 label.sk-toggleable__label-arrow:hover:before {color: black;}#sk-container-id-1 div.sk-estimator:hover label.sk-toggleable__label-arrow:before {color: black;}#sk-container-id-1 div.sk-toggleable__content {max-height: 0;max-width: 0;overflow: hidden;text-align: left;background-color: #f0f8ff;}#sk-container-id-1 div.sk-toggleable__content pre {margin: 0.2em;color: black;border-radius: 0.25em;background-color: #f0f8ff;}#sk-container-id-1 input.sk-toggleable__control:checked~div.sk-toggleable__content {max-height: 200px;max-width: 100%;overflow: auto;}#sk-container-id-1 input.sk-toggleable__control:checked~label.sk-toggleable__label-arrow:before {content: \"▾\";}#sk-container-id-1 div.sk-estimator input.sk-toggleable__control:checked~label.sk-toggleable__label {background-color: #d4ebff;}#sk-container-id-1 div.sk-label input.sk-toggleable__control:checked~label.sk-toggleable__label {background-color: #d4ebff;}#sk-container-id-1 input.sk-hidden--visually {border: 0;clip: rect(1px 1px 1px 1px);clip: rect(1px, 1px, 1px, 1px);height: 1px;margin: -1px;overflow: hidden;padding: 0;position: absolute;width: 1px;}#sk-container-id-1 div.sk-estimator {font-family: monospace;background-color: #f0f8ff;border: 1px dotted black;border-radius: 0.25em;box-sizing: border-box;margin-bottom: 0.5em;}#sk-container-id-1 div.sk-estimator:hover {background-color: #d4ebff;}#sk-container-id-1 div.sk-parallel-item::after {content: \"\";width: 100%;border-bottom: 1px solid gray;flex-grow: 1;}#sk-container-id-1 div.sk-label:hover label.sk-toggleable__label {background-color: #d4ebff;}#sk-container-id-1 div.sk-serial::before {content: \"\";position: absolute;border-left: 1px solid gray;box-sizing: border-box;top: 0;bottom: 0;left: 50%;z-index: 0;}#sk-container-id-1 div.sk-serial {display: flex;flex-direction: column;align-items: center;background-color: white;padding-right: 0.2em;padding-left: 0.2em;position: relative;}#sk-container-id-1 div.sk-item {position: relative;z-index: 1;}#sk-container-id-1 div.sk-parallel {display: flex;align-items: stretch;justify-content: center;background-color: white;position: relative;}#sk-container-id-1 div.sk-item::before, #sk-container-id-1 div.sk-parallel-item::before {content: \"\";position: absolute;border-left: 1px solid gray;box-sizing: border-box;top: 0;bottom: 0;left: 50%;z-index: -1;}#sk-container-id-1 div.sk-parallel-item {display: flex;flex-direction: column;z-index: 1;position: relative;background-color: white;}#sk-container-id-1 div.sk-parallel-item:first-child::after {align-self: flex-end;width: 50%;}#sk-container-id-1 div.sk-parallel-item:last-child::after {align-self: flex-start;width: 50%;}#sk-container-id-1 div.sk-parallel-item:only-child::after {width: 0;}#sk-container-id-1 div.sk-dashed-wrapped {border: 1px dashed gray;margin: 0 0.4em 0.5em 0.4em;box-sizing: border-box;padding-bottom: 0.4em;background-color: white;}#sk-container-id-1 div.sk-label label {font-family: monospace;font-weight: bold;display: inline-block;line-height: 1.2em;}#sk-container-id-1 div.sk-label-container {text-align: center;}#sk-container-id-1 div.sk-container {/* jupyter's `normalize.less` sets `[hidden] { display: none; }` but bootstrap.min.css set `[hidden] { display: none !important; }` so we also need the `!important` here to be able to override the default hidden behavior on the sphinx rendered scikit-learn.org. See: https://github.com/scikit-learn/scikit-learn/issues/21755 */display: inline-block !important;position: relative;}#sk-container-id-1 div.sk-text-repr-fallback {display: none;}</style><div id=\"sk-container-id-1\" class=\"sk-top-container\"><div class=\"sk-text-repr-fallback\"><pre>RandomForestRegressor(n_estimators=1000, random_state=42)</pre><b>In a Jupyter environment, please rerun this cell to show the HTML representation or trust the notebook. <br />On GitHub, the HTML representation is unable to render, please try loading this page with nbviewer.org.</b></div><div class=\"sk-container\" hidden><div class=\"sk-item\"><div class=\"sk-estimator sk-toggleable\"><input class=\"sk-toggleable__control sk-hidden--visually\" id=\"sk-estimator-id-1\" type=\"checkbox\" checked><label for=\"sk-estimator-id-1\" class=\"sk-toggleable__label sk-toggleable__label-arrow\">RandomForestRegressor</label><div class=\"sk-toggleable__content\"><pre>RandomForestRegressor(n_estimators=1000, random_state=42)</pre></div></div></div></div></div>"
      ],
      "text/plain": [
       "RandomForestRegressor(n_estimators=1000, random_state=42)"
      ]
     },
     "execution_count": 18,
     "metadata": {},
     "output_type": "execute_result"
    }
   ],
   "source": [
    "model2 = RandomForestRegressor(n_estimators = 1000, random_state = 42)\n",
    "model2.fit(X_train, y_train)"
   ]
  },
  {
   "cell_type": "code",
   "execution_count": 19,
   "id": "7ccbf7bd",
   "metadata": {},
   "outputs": [
    {
     "data": {
      "text/plain": [
       "array([[0.        , 0.        , 0.        , 0.78496122, 0.15473852,\n",
       "        0.06030026],\n",
       "       [1.        , 0.        , 0.        , 0.        , 0.        ,\n",
       "        0.        ],\n",
       "       [1.        , 0.        , 0.        , 0.        , 0.        ,\n",
       "        0.        ],\n",
       "       ...,\n",
       "       [0.        , 0.96914007, 0.        , 0.03085993, 0.        ,\n",
       "        0.        ],\n",
       "       [1.        , 0.        , 0.        , 0.        , 0.        ,\n",
       "        0.        ],\n",
       "       [0.996     , 0.        , 0.        , 0.002     , 0.002     ,\n",
       "        0.        ]])"
      ]
     },
     "execution_count": 19,
     "metadata": {},
     "output_type": "execute_result"
    }
   ],
   "source": [
    "y_pred2 = model2.predict(X_test)\n",
    "y_pred2"
   ]
  },
  {
   "cell_type": "code",
   "execution_count": 20,
   "id": "1d1efff5",
   "metadata": {},
   "outputs": [],
   "source": [
    "y_test = np.argmax(y_test, axis=1)\n",
    "y_pred2 = np.argmax(y_pred2, axis=1)"
   ]
  },
  {
   "cell_type": "code",
   "execution_count": 21,
   "id": "00eac4f8",
   "metadata": {},
   "outputs": [
    {
     "name": "stdout",
     "output_type": "stream",
     "text": [
      "Matriz de confusión:\n",
      " [[125   0   0   0   0   0]\n",
      " [  5 127   0   0   0   0]\n",
      " [  0   0 128   1   1   0]\n",
      " [  6   3   8  93   3  19]\n",
      " [  0   0   0   5 144   2]\n",
      " [  1   0   0   4   0 130]]\n"
     ]
    }
   ],
   "source": [
    "print('Matriz de confusión:\\n', metrics.confusion_matrix(y_test, y_pred2))"
   ]
  },
  {
   "cell_type": "code",
   "execution_count": 22,
   "id": "cbd547e0",
   "metadata": {},
   "outputs": [
    {
     "name": "stdout",
     "output_type": "stream",
     "text": [
      "              precision    recall  f1-score   support\n",
      "\n",
      "           0       0.91      1.00      0.95       125\n",
      "           1       0.98      0.96      0.97       132\n",
      "           2       0.94      0.98      0.96       130\n",
      "           3       0.90      0.70      0.79       132\n",
      "           4       0.97      0.95      0.96       151\n",
      "           5       0.86      0.96      0.91       135\n",
      "\n",
      "    accuracy                           0.93       805\n",
      "   macro avg       0.93      0.93      0.92       805\n",
      "weighted avg       0.93      0.93      0.93       805\n",
      "\n"
     ]
    }
   ],
   "source": [
    "print(metrics.classification_report(y_test, y_pred2))"
   ]
  },
  {
   "cell_type": "code",
   "execution_count": 23,
   "id": "2b3b2e2e",
   "metadata": {},
   "outputs": [
    {
     "name": "stdout",
     "output_type": "stream",
     "text": [
      "Starting 0 fold\n",
      "0 fold accuracy is: 0.9070631970260223\n",
      "Starting 1 fold\n",
      "1 fold accuracy is: 0.9219330855018587\n",
      "Starting 2 fold\n",
      "2 fold accuracy is: 0.9328358208955224\n",
      "Starting 3 fold\n",
      "3 fold accuracy is: 0.9253731343283582\n",
      "Starting 4 fold\n",
      "4 fold accuracy is: 0.917910447761194\n",
      "Starting 5 fold\n",
      "5 fold accuracy is: 0.9104477611940298\n",
      "Starting 6 fold\n",
      "6 fold accuracy is: 0.914179104477612\n",
      "Starting 7 fold\n",
      "7 fold accuracy is: 0.9477611940298507\n",
      "Starting 8 fold\n",
      "8 fold accuracy is: 0.9328358208955224\n",
      "Starting 9 fold\n",
      "9 fold accuracy is: 0.9253731343283582\n",
      "After 10 folds average accuracy is: 0.9235712700438331\n"
     ]
    }
   ],
   "source": [
    "cv = StratifiedKFold(n_splits=10, random_state=123, shuffle=True)\n",
    "X = bow\n",
    "y = df2['class']\n",
    "accs = 0\n",
    "    \n",
    "for (train, test), i in zip(cv.split(X, y), range(10)):\n",
    "    print(\"Starting\", i, \"fold\")\n",
    "    y_train = y.iloc[train]\n",
    "    y_test = np.array(pd.get_dummies(y.iloc[test]))\n",
    "    y_test = np.argmax(y_test, axis=1)\n",
    "    model2.fit(X.iloc[train], pd.get_dummies(y_train))\n",
    "    y_pred = model2.predict(X.iloc[test])\n",
    "    y_pred = np.argmax(y_pred, axis=1)\n",
    "    acc = metrics.accuracy_score(y_test, y_pred)\n",
    "    accs += acc\n",
    "    print(i, \"fold accuracy is:\", acc)\n",
    "    \n",
    "print(\"After 10 folds average accuracy is:\", accs/10)"
   ]
  },
  {
   "cell_type": "markdown",
   "id": "a816d858",
   "metadata": {},
   "source": [
    "Al observar este modelo podemos ver una mejora mucho mayor comparada con el modelo de support vector machines ya que en el kfold nos da una accuracy de 92%, un resultado muy bueno. En términos de precision y recall también está bastante balanceado y tiene resultados altos, lo que significa que es bueno identificando los virus en sus categorías. La única categoría que tiene una separación mayor entre precision y recall es la categoría 3 que equivale a trojan, esta categoría tiene una alta precision y baja recall, lo que significa que está underfitted, identifica menos virus de los que debería pero los que identifica estan bien. Es posible que la razón sea porque el dataset original tenía muchos datos de troyanos y se redujo bastante para balancear el dataset pero en general está muy bien el resultado del modelo"
   ]
  },
  {
   "cell_type": "markdown",
   "id": "1e68d9fb",
   "metadata": {},
   "source": [
    "#### Comparación con resultados del paper\n",
    "El modelo de support vector machines realizado en este laboratorio no llega al resultado obtenido en el paper, ya que con los datos balanceados la accuracy del paper fue de 79% y en este laboratorio se obtuvo 70%.  \n",
    "Por otro lado en el modelo desarrollado de random forest si se superó el resultado del paper, el el paper con los datos balanceados obtuvieron un 73% de accuracy mientras que el resultado obtenido en el laboratorio fue de 92%."
   ]
  }
 ],
 "metadata": {
  "kernelspec": {
   "display_name": "Python 3 (ipykernel)",
   "language": "python",
   "name": "python3"
  },
  "language_info": {
   "codemirror_mode": {
    "name": "ipython",
    "version": 3
   },
   "file_extension": ".py",
   "mimetype": "text/x-python",
   "name": "python",
   "nbconvert_exporter": "python",
   "pygments_lexer": "ipython3",
   "version": "3.10.10"
  }
 },
 "nbformat": 4,
 "nbformat_minor": 5
}
